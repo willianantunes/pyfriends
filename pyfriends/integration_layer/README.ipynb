{
 "cells": [
  {
   "cell_type": "markdown",
   "id": "47249127-72ba-497b-976d-e6cfe14b6453",
   "metadata": {},
   "source": [
    "# Playing with integration layer\n",
    "\n",
    "When the command `docker-compose up builder` finishes its execution, you'll find the following files in this folder:\n",
    "\n",
    "- character.parquet\n",
    "- dialogue.parquet\n",
    "- episode.parquet\n",
    "- scene.parquet\n",
    "\n",
    "We can use them to analyze all the data and answer some questions, such as which character has more lines?\n",
    "\n",
    "## Converting parquet to pandas dataframe\n",
    "\n",
    "Giving you have executed the command mentioned above, now we can create the DataFrames from the parquet files:"
   ]
  },
  {
   "cell_type": "code",
   "execution_count": 1,
   "id": "4a1aed27-0b4b-4057-a579-6160b0264ced",
   "metadata": {},
   "outputs": [],
   "source": [
    "import pandas as pd\n",
    "\n",
    "dialogue_df = pd.read_parquet(\"dialogue.parquet\")\n",
    "episode_df = pd.read_parquet(f\"episode.parquet\")\n",
    "dialogue_df = pd.read_parquet(f\"dialogue.parquet\")\n",
    "character_df = pd.read_parquet(f\"character.parquet\")\n",
    "scene_df = pd.read_parquet(f\"scene.parquet\")"
   ]
  },
  {
   "cell_type": "markdown",
   "id": "6bf82e10-6a55-4823-b4c5-ec073a60e8cf",
   "metadata": {},
   "source": [
    "Now that we have all DFs, let's see the main characters:"
   ]
  },
  {
   "cell_type": "code",
   "execution_count": 2,
   "id": "b6bf81e1-3c43-4dd2-9698-91a9f06ecd58",
   "metadata": {},
   "outputs": [
    {
     "data": {
      "text/html": [
       "<div>\n",
       "<style scoped>\n",
       "    .dataframe tbody tr th:only-of-type {\n",
       "        vertical-align: middle;\n",
       "    }\n",
       "\n",
       "    .dataframe tbody tr th {\n",
       "        vertical-align: top;\n",
       "    }\n",
       "\n",
       "    .dataframe thead th {\n",
       "        text-align: right;\n",
       "    }\n",
       "</style>\n",
       "<table border=\"1\" class=\"dataframe\">\n",
       "  <thead>\n",
       "    <tr style=\"text-align: right;\">\n",
       "      <th></th>\n",
       "      <th>NAME</th>\n",
       "      <th>IS_MAIN</th>\n",
       "    </tr>\n",
       "  </thead>\n",
       "  <tbody>\n",
       "    <tr>\n",
       "      <th>0</th>\n",
       "      <td>ROSS</td>\n",
       "      <td>True</td>\n",
       "    </tr>\n",
       "    <tr>\n",
       "      <th>1</th>\n",
       "      <td>MONICA</td>\n",
       "      <td>True</td>\n",
       "    </tr>\n",
       "    <tr>\n",
       "      <th>2</th>\n",
       "      <td>PHOEBE</td>\n",
       "      <td>True</td>\n",
       "    </tr>\n",
       "    <tr>\n",
       "      <th>3</th>\n",
       "      <td>RACHEL</td>\n",
       "      <td>True</td>\n",
       "    </tr>\n",
       "    <tr>\n",
       "      <th>4</th>\n",
       "      <td>CHANDLER</td>\n",
       "      <td>True</td>\n",
       "    </tr>\n",
       "    <tr>\n",
       "      <th>5</th>\n",
       "      <td>JOEY</td>\n",
       "      <td>True</td>\n",
       "    </tr>\n",
       "  </tbody>\n",
       "</table>\n",
       "</div>"
      ],
      "text/plain": [
       "       NAME  IS_MAIN\n",
       "0      ROSS     True\n",
       "1    MONICA     True\n",
       "2    PHOEBE     True\n",
       "3    RACHEL     True\n",
       "4  CHANDLER     True\n",
       "5      JOEY     True"
      ]
     },
     "execution_count": 2,
     "metadata": {},
     "output_type": "execute_result"
    }
   ],
   "source": [
    "character_df.query(\"IS_MAIN == True\")"
   ]
  },
  {
   "cell_type": "markdown",
   "id": "05462b48-1520-4e9f-9b2b-b92f2bbc0fd4",
   "metadata": {},
   "source": [
    "How about which is the character that has more lines on the show? 📣"
   ]
  },
  {
   "cell_type": "code",
   "execution_count": 19,
   "id": "8739f044-a6c7-463d-adca-76d2c0d9abef",
   "metadata": {},
   "outputs": [
    {
     "data": {
      "text/plain": [
       "<AxesSubplot:xlabel='CHARACTER_NAME'>"
      ]
     },
     "execution_count": 19,
     "metadata": {},
     "output_type": "execute_result"
    },
    {
     "data": {
      "image/png": "[encoded data removed]",
      "text/plain": [
       "<Figure size 432x288 with 1 Axes>"
      ]
     },
     "metadata": {
      "needs_background": "light"
     },
     "output_type": "display_data"
    }
   ],
   "source": [
    "friends = [\"CHANDLER\", \"JOEY\", \"MONICA\", \"PHOEBE\", \"RACHEL\", \"ROSS\"]\n",
    "dialogue_df_only_with_main_characters = dialogue_df.loc[dialogue_df['CHARACTER_NAME'].isin(friends)]\n",
    "\n",
    "final_df = dialogue_df_only_with_main_characters.groupby([\"CHARACTER_NAME\"])[\"SEASON_NUMBER\"].count().sort_values()\n",
    "final_df.plot(kind=\"bar\", x=\"CHARACTER_NAME\")"
   ]
  }
 ],
 "metadata": {
  "kernelspec": {
   "display_name": "Python 3 (ipykernel)",
   "language": "python",
   "name": "python3"
  },
  "language_info": {
   "codemirror_mode": {
    "name": "ipython",
    "version": 3
   },
   "file_extension": ".py",
   "mimetype": "text/x-python",
   "name": "python",
   "nbconvert_exporter": "python",
   "pygments_lexer": "ipython3",
   "version": "3.9.6"
  }
 },
 "nbformat": 4,
 "nbformat_minor": 5
}
